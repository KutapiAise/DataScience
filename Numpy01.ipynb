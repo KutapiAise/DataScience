{
  "nbformat": 4,
  "nbformat_minor": 0,
  "metadata": {
    "colab": {
      "name": "Numpy01.ipynb",
      "provenance": [],
      "include_colab_link": true
    },
    "kernelspec": {
      "name": "python3",
      "display_name": "Python 3"
    }
  },
  "cells": [
    {
      "cell_type": "markdown",
      "metadata": {
        "id": "view-in-github",
        "colab_type": "text"
      },
      "source": [
        "<a href=\"https://colab.research.google.com/github/KutapiAise/DataScience/blob/master/Numpy01.ipynb\" target=\"_parent\"><img src=\"https://colab.research.google.com/assets/colab-badge.svg\" alt=\"Open In Colab\"/></a>"
      ]
    },
    {
      "cell_type": "markdown",
      "metadata": {
        "id": "SDUerGYfRjaL",
        "colab_type": "text"
      },
      "source": [
        "#### Increase  dimension of numpy array"
      ]
    },
    {
      "cell_type": "code",
      "metadata": {
        "id": "wS3s8VfHARIw",
        "colab_type": "code",
        "colab": {
          "base_uri": "https://localhost:8080/",
          "height": 68
        },
        "outputId": "49d30a0a-4512-4f6f-8c7a-819a8c6280b4"
      },
      "source": [
        "# image = image[..., np.newaxis]\n",
        "\n",
        "# image = np.expand_dims(image, <your desired dimension>)\n",
        "\n",
        "# to increase the dimension of an numoy array\n",
        "# you can inrease the dimension by \n",
        "# x =x[..., np.newaxis]\n",
        "\n",
        "\n",
        "import numpy as np\n",
        "x = np.array([1, 2])\n",
        "\n",
        "print(x.shape)  # prints (2,)\n",
        "\n",
        "y = np.expand_dims(x, axis=0)\n",
        "\n",
        "print(y.shape)\n",
        "\n",
        "z = np.expand_dims(x, axis=1)\n",
        "\n",
        "print(z.shape)"
      ],
      "execution_count": 3,
      "outputs": [
        {
          "output_type": "stream",
          "text": [
            "(2,)\n",
            "(1, 2)\n",
            "(2, 1)\n"
          ],
          "name": "stdout"
        }
      ]
    },
    {
      "cell_type": "code",
      "metadata": {
        "id": "ilTX_54lRKZ6",
        "colab_type": "code",
        "colab": {}
      },
      "source": [
        ""
      ],
      "execution_count": 0,
      "outputs": []
    }
  ]
}