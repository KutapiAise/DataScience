{
 "cells": [
  {
   "cell_type": "markdown",
   "metadata": {},
   "source": [
    "about 68% of values drawn from a normal distribution are within one standard deviation σ away from the mean; about 95% of the values lie within two standard deviations; and about 99.7% are within three standard deviations.\n",
    "\n",
    "This fact is known as the 68-95-99.7 (empirical) rule, or the 3-sigma rule.\n",
    "\n",
    "#### Remove Outliers Using Normal Distribution and S.D.\n",
    " \n",
    "I applied this rule successfully when I had to clean up data from millions of IoT devices generating heating equipment data. Each data point contained the electricity usage at a point of time.\n",
    "\n",
    "However, sometimes the devices weren’t 100% accurate and would give very high or very low values.\n",
    "\n",
    "We needed to remove these outlier values because they were making the scales on our graph unrealistic. The challenge was that the number of these outlier values was never fixed. Sometimes we would get all valid values and sometimes these erroneous readings would cover as much as 10% of the data points.\n",
    "\n",
    "Our approach was to remove the outlier points by eliminating any points that were above (Mean + 2*SD) and any points below (Mean - 2*SD) before plotting the frequencies.\n",
    "\n",
    "You don’t have to use 2 though, you can tweak it a little to get a better outlier detection formula for your data."
   ]
  },
  {
   "cell_type": "code",
   "execution_count": 1,
   "metadata": {
    "collapsed": false
   },
   "outputs": [
    {
     "name": "stdout",
     "output_type": "stream",
     "text": [
      "[386, 479, 627, 523, 482, 483, 542, 699, 535, 617, 577, 471, 615, 583, 441, 562, 563, 527, 453, 530, 433, 541, 585, 704, 443, 569, 430, 637, 331, 511, 552, 496, 484, 566, 554, 472, 335, 440, 579, 341, 545, 615, 548, 604, 439, 556, 442, 461, 624, 611, 444, 578, 405, 487, 490, 496, 398, 512, 422, 455, 449, 432, 607, 679, 434, 597, 639, 565, 415, 486, 668, 414, 665, 557, 304, 404, 454, 689, 610, 483, 441, 657, 590, 492, 476, 437, 483, 529, 363, 711, 543]\n"
     ]
    }
   ],
   "source": [
    "import numpy\n",
    "\n",
    "arr = [10, 386, 479, 627, 20, 523, 482, 483, 542, 699, 535, 617, 577, 471, 615, 583, 441, 562, 563, 527, 453, 530, 433, 541, 585, 704, 443, 569, 430, 637, 331, 511, 552, 496, 484, 566, 554, 472, 335, 440, 579, 341, 545, 615, 548, 604, 439, 556, 442, 461, 624, 611, 444, 578, 405, 487, 490, 496, 398, 512, 422, 455, 449, 432, 607, 679, 434, 597, 639, 565, 415, 486, 668, 414, 665, 763, 557, 304, 404, 454, 689, 610, 483, 441, 657, 590, 492, 476, 437, 483, 529, 363, 711, 543]\n",
    "\n",
    "elements = numpy.array(arr)\n",
    "\n",
    "mean = numpy.mean(elements, axis=0)\n",
    "sd = numpy.std(elements, axis=0)\n",
    "\n",
    "final_list = [x for x in arr if (x > mean - 2 * sd)]\n",
    "final_list = [x for x in final_list if (x < mean + 2 * sd)]\n",
    "print(final_list)"
   ]
  },
  {
   "cell_type": "code",
   "execution_count": 2,
   "metadata": {
    "collapsed": false
   },
   "outputs": [
    {
     "data": {
      "text/html": [
       "<div>\n",
       "<style>\n",
       "    .dataframe thead tr:only-child th {\n",
       "        text-align: right;\n",
       "    }\n",
       "\n",
       "    .dataframe thead th {\n",
       "        text-align: left;\n",
       "    }\n",
       "\n",
       "    .dataframe tbody tr th {\n",
       "        vertical-align: top;\n",
       "    }\n",
       "</style>\n",
       "<table border=\"1\" class=\"dataframe\">\n",
       "  <thead>\n",
       "    <tr style=\"text-align: right;\">\n",
       "      <th></th>\n",
       "      <th>address</th>\n",
       "      <th>age</th>\n",
       "      <th>name</th>\n",
       "    </tr>\n",
       "  </thead>\n",
       "  <tbody>\n",
       "    <tr>\n",
       "      <th>0</th>\n",
       "      <td>address0</td>\n",
       "      <td>71</td>\n",
       "      <td>name0</td>\n",
       "    </tr>\n",
       "    <tr>\n",
       "      <th>1</th>\n",
       "      <td>address1</td>\n",
       "      <td>34</td>\n",
       "      <td>name1</td>\n",
       "    </tr>\n",
       "    <tr>\n",
       "      <th>2</th>\n",
       "      <td>address2</td>\n",
       "      <td>91</td>\n",
       "      <td>name2</td>\n",
       "    </tr>\n",
       "    <tr>\n",
       "      <th>3</th>\n",
       "      <td>address3</td>\n",
       "      <td>80</td>\n",
       "      <td>name3</td>\n",
       "    </tr>\n",
       "    <tr>\n",
       "      <th>4</th>\n",
       "      <td>address4</td>\n",
       "      <td>40</td>\n",
       "      <td>name4</td>\n",
       "    </tr>\n",
       "  </tbody>\n",
       "</table>\n",
       "</div>"
      ],
      "text/plain": [
       "    address  age   name\n",
       "0  address0   71  name0\n",
       "1  address1   34  name1\n",
       "2  address2   91  name2\n",
       "3  address3   80  name3\n",
       "4  address4   40  name4"
      ]
     },
     "execution_count": 2,
     "metadata": {},
     "output_type": "execute_result"
    }
   ],
   "source": [
    "import pandas as pd\n",
    "import numpy as np\n",
    "\n",
    "from pandas.api.types import is_numeric_dtype\n",
    "\n",
    "np.random.seed(42)\n",
    "age = np.random.randint(20,100,50)\n",
    "name = ['name'+str(i) for i in range(50)]\n",
    "address = ['address'+str(i) for i in range(50)]\n",
    "\n",
    "df = pd.DataFrame(data={'age':age, 'name':name, 'address':address})\n",
    "\n",
    "def remove_outlier(df):\n",
    "    low = .05\n",
    "    high = .95\n",
    "    quant_df = df.quantile([low, high])\n",
    "    for name in list(df.columns):\n",
    "        if is_numeric_dtype(df[name]):\n",
    "            df = df[(df[name] > quant_df.loc[low, name]) & (df[name] < quant_df.loc[high, name])]\n",
    "    return df\n",
    "\n",
    "remove_outlier(df).head()"
   ]
  },
  {
   "cell_type": "code",
   "execution_count": 18,
   "metadata": {
    "collapsed": false
   },
   "outputs": [
    {
     "name": "stdout",
     "output_type": "stream",
     "text": [
      "    col1\n",
      "0     10\n",
      "4     20\n",
      "75   763\n"
     ]
    }
   ],
   "source": [
    "import pandas as pd   # to manipulate dataframes\n",
    "import numpy as np   # to manipulate arrays\n",
    "\n",
    "\n",
    "arr = [10, 386, 479, 627, 20, 523, 482, 483, 542, 699, 535, 617, 577, 471, 615, 583, 441, 562, 563, 527, 453, 530, 433, 541, 585, 704, 443, 569, 430, 637, 331, 511, 552, 496, 484, 566, 554, 472, 335, 440, 579, 341, 545, 615, 548, 604, 439, 556, 442, 461, 624, 611, 444, 578, 405, 487, 490, 496, 398, 512, 422, 455, 449, 432, 607, 679, 434, 597, 639, 565, 415, 486, 668, 414, 665, 763, 557, 304, 404, 454, 689, 610, 483, 441, 657, 590, 492, 476, 437, 483, 529, 363, 711, 543]\n",
    "\n",
    "df= pd.DataFrame(arr,columns=['col1'])\n",
    "\n",
    "# a number \"a\" from the vector \"x\" is an outlier if \n",
    "# a > median(x)+1.5*iqr(x) or a < median-1.5*iqr(x)\n",
    "# iqr: interquantile range = third interquantile - first interquantile\n",
    "def outliers(x): \n",
    "       return np.abs(x- x.median()) > 1.5*(x.quantile(.75)-x.quantile(0.25))\n",
    "\n",
    "# Give the outliers for the first column for example\n",
    "print(df[outliers(df.col1)])\n",
    "    \n",
    "    \n",
    "# The function return a boolean vector: True if the element is an outlier. False, otherwise.\n",
    "\n",
    "# Now, to replace the upper and lower outliers, let's write another small function and apply it on all the dataframe:\n",
    "\n",
    "# Replace the upper outlier(s) with the 95th percentile and the lower one(s) with the 5th percentile \n",
    "def replace(x):   # x is a vector\n",
    "       out = x[outliers(x)]\n",
    "       return x.replace(to_replace = [out.min(),out.max()], \n",
    "                        value = [np.percentile(x,5),np.percentile(x,95)])\n",
    "\n",
    "# Apply replace() on each column of the dataframe\n",
    "df = df.apply(replace,axis=1)\n",
    "\n",
    "# Finally, remove the rows containing any outlier:\n",
    "\n",
    "df = df[~df.apply(outliers).any(axis=1)]"
   ]
  },
  {
   "cell_type": "code",
   "execution_count": 16,
   "metadata": {
    "collapsed": false
   },
   "outputs": [
    {
     "data": {
      "text/html": [
       "<div>\n",
       "<style>\n",
       "    .dataframe thead tr:only-child th {\n",
       "        text-align: right;\n",
       "    }\n",
       "\n",
       "    .dataframe thead th {\n",
       "        text-align: left;\n",
       "    }\n",
       "\n",
       "    .dataframe tbody tr th {\n",
       "        vertical-align: top;\n",
       "    }\n",
       "</style>\n",
       "<table border=\"1\" class=\"dataframe\">\n",
       "  <thead>\n",
       "    <tr style=\"text-align: right;\">\n",
       "      <th></th>\n",
       "      <th>col1</th>\n",
       "    </tr>\n",
       "  </thead>\n",
       "  <tbody>\n",
       "    <tr>\n",
       "      <th>1</th>\n",
       "      <td>386</td>\n",
       "    </tr>\n",
       "    <tr>\n",
       "      <th>2</th>\n",
       "      <td>479</td>\n",
       "    </tr>\n",
       "    <tr>\n",
       "      <th>3</th>\n",
       "      <td>627</td>\n",
       "    </tr>\n",
       "    <tr>\n",
       "      <th>5</th>\n",
       "      <td>523</td>\n",
       "    </tr>\n",
       "    <tr>\n",
       "      <th>6</th>\n",
       "      <td>482</td>\n",
       "    </tr>\n",
       "  </tbody>\n",
       "</table>\n",
       "</div>"
      ],
      "text/plain": [
       "   col1\n",
       "1   386\n",
       "2   479\n",
       "3   627\n",
       "5   523\n",
       "6   482"
      ]
     },
     "execution_count": 16,
     "metadata": {},
     "output_type": "execute_result"
    }
   ],
   "source": [
    "df.head()"
   ]
  },
  {
   "cell_type": "code",
   "execution_count": null,
   "metadata": {
    "collapsed": true
   },
   "outputs": [],
   "source": []
  }
 ],
 "metadata": {
  "kernelspec": {
   "display_name": "Python 3",
   "language": "python",
   "name": "python3"
  },
  "language_info": {
   "codemirror_mode": {
    "name": "ipython",
    "version": 3
   },
   "file_extension": ".py",
   "mimetype": "text/x-python",
   "name": "python",
   "nbconvert_exporter": "python",
   "pygments_lexer": "ipython3",
   "version": "3.5.2"
  }
 },
 "nbformat": 4,
 "nbformat_minor": 2
}
