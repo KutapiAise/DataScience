{
  "nbformat": 4,
  "nbformat_minor": 0,
  "metadata": {
    "colab": {
      "name": "Python_Tricks101.ipynb",
      "provenance": [],
      "include_colab_link": true
    },
    "kernelspec": {
      "name": "python3",
      "display_name": "Python 3"
    }
  },
  "cells": [
    {
      "cell_type": "markdown",
      "metadata": {
        "id": "view-in-github",
        "colab_type": "text"
      },
      "source": [
        "<a href=\"https://colab.research.google.com/github/KutapiAise/DataScience/blob/master/Python_Tricks101.ipynb\" target=\"_parent\"><img src=\"https://colab.research.google.com/assets/colab-badge.svg\" alt=\"Open In Colab\"/></a>"
      ]
    },
    {
      "cell_type": "markdown",
      "metadata": {
        "id": "RDve-GJ7oMwd",
        "colab_type": "text"
      },
      "source": [
        "#### 1: String manipulation\n",
        "\n",
        "- We can reverse a string easily as well, using [::-1] and this isn’t limited to strings!."
      ]
    },
    {
      "cell_type": "code",
      "metadata": {
        "id": "RgoSegZuoAw-",
        "colab_type": "code",
        "colab": {
          "base_uri": "https://localhost:8080/",
          "height": 68
        },
        "outputId": "47dbbb25-0fbd-403e-ed37-757bca9b641a"
      },
      "source": [
        "my_string = \"Hi Medium..!\"\n",
        "\n",
        "print(my_string * 2)\n",
        "\n",
        "print(my_string + \" I love Python\" * 2)\n",
        "\n",
        "word_list = [\"awesome\", \"is\", \"this\"]\n",
        "print(' '.join(word_list[::-1]) + '!')"
      ],
      "execution_count": 3,
      "outputs": [
        {
          "output_type": "stream",
          "text": [
            "Hi Medium..!Hi Medium..!\n",
            "Hi Medium..! I love Python I love Python\n",
            "this is awesome!\n"
          ],
          "name": "stdout"
        }
      ]
    },
    {
      "cell_type": "markdown",
      "metadata": {
        "id": "aoGVgHldo9RC",
        "colab_type": "text"
      },
      "source": [
        "####  2: List comprehensions\n"
      ]
    },
    {
      "cell_type": "code",
      "metadata": {
        "id": "SyZcxQQfouxJ",
        "colab_type": "code",
        "colab": {
          "base_uri": "https://localhost:8080/",
          "height": 34
        },
        "outputId": "7f8d842c-36e1-40e9-ecfd-b633d8eec9f4"
      },
      "source": [
        "def stupid_func(x):\n",
        "  return x**2 + 5\n",
        "\n",
        "\n",
        "\n",
        "\n",
        "my_list = [1, 2, 3, 4, 5]\n",
        "new_list = []\n",
        "for x in my_list:\n",
        "  if x % 2 != 0:\n",
        "    new_list.append(stupid_func(x))\n",
        "    \n",
        "    \n",
        "print(new_list)"
      ],
      "execution_count": 5,
      "outputs": [
        {
          "output_type": "stream",
          "text": [
            "[6, 14, 30]\n"
          ],
          "name": "stdout"
        }
      ]
    },
    {
      "cell_type": "code",
      "metadata": {
        "id": "xEQD_Yupwbho",
        "colab_type": "code",
        "colab": {
          "base_uri": "https://localhost:8080/",
          "height": 34
        },
        "outputId": "7712855a-f9d6-49d3-d759-b5a67dab5cce"
      },
      "source": [
        "print([x ** 2 + 5 for x in my_list if x % 2 != 0])"
      ],
      "execution_count": 6,
      "outputs": [
        {
          "output_type": "stream",
          "text": [
            "[6, 14, 30]\n"
          ],
          "name": "stdout"
        }
      ]
    },
    {
      "cell_type": "markdown",
      "metadata": {
        "id": "jaBp61ldxIAC",
        "colab_type": "text"
      },
      "source": [
        "#### 3: Lambda & Map\n",
        "\n",
        "Basically a Lambda function is a small, anonymous function. Why anonymous? Simply because Lambdas are most often used to perform small / simple operations \n",
        "\n"
      ]
    },
    {
      "cell_type": "code",
      "metadata": {
        "id": "EKeiH6dExC0U",
        "colab_type": "code",
        "colab": {
          "base_uri": "https://localhost:8080/",
          "height": 34
        },
        "outputId": "687dd5b5-53db-437a-ff75-26a06559b28d"
      },
      "source": [
        "stupid_func = (lambda x : x ** 2 + 5)\n",
        "\n",
        "print([stupid_func(1), stupid_func(3), stupid_func(5)])"
      ],
      "execution_count": 8,
      "outputs": [
        {
          "output_type": "stream",
          "text": [
            "[6, 14, 30]\n"
          ],
          "name": "stdout"
        }
      ]
    },
    {
      "cell_type": "code",
      "metadata": {
        "id": "KIz9BS1sxjvD",
        "colab_type": "code",
        "colab": {
          "base_uri": "https://localhost:8080/",
          "height": 34
        },
        "outputId": "d4043663-c0e5-4fd7-e8e7-5eac53914688"
      },
      "source": [
        "my_list = [2, 1, 0, -1, -2]\n",
        "print(sorted(my_list))\n",
        "\n",
        "\n",
        "# That did the trick, but let’s say we want to sort by the lowest squared number,\n",
        "# we can use a\n",
        "# lambda function to define the key, which is what the sorted() method uses to determine how to sort.\n",
        "\n",
        "print(sorted(my_list, key = lambda x : x ** 2))"
      ],
      "execution_count": 10,
      "outputs": [
        {
          "output_type": "stream",
          "text": [
            "[-2, -1, 0, 1, 2]\n"
          ],
          "name": "stdout"
        }
      ]
    },
    {
      "cell_type": "markdown",
      "metadata": {
        "id": "0Sv_cV_q6Hqa",
        "colab_type": "text"
      },
      "source": [
        "#### Map\n",
        "Map is simply a function used to apply a function to some sequence of elements like a list. Let’s\n",
        "say we have to list where we want to multiply each element in one list with the corresponding element \n",
        "in the other, how do we do this? Using a lambda function and map!:"
      ]
    },
    {
      "cell_type": "code",
      "metadata": {
        "id": "nhJrRf8Y3Rd7",
        "colab_type": "code",
        "colab": {
          "base_uri": "https://localhost:8080/",
          "height": 51
        },
        "outputId": "9aa4d395-a8ac-4904-f18f-d881eabfc550"
      },
      "source": [
        "print(list(map(lambda x, y : x * y, [1, 2, 3], [4, 5, 6])))\n",
        "\n",
        "\n",
        "# This is simple and elegant compared to this monstrocity:\n",
        "x, y = [1, 2, 3], [4, 5, 6]\n",
        "z = []\n",
        "for i in range(len(x)):\n",
        "  z.append(x[i] * y[i])\n",
        "print(z)"
      ],
      "execution_count": 15,
      "outputs": [
        {
          "output_type": "stream",
          "text": [
            "[4, 10, 18]\n",
            "[4, 10, 18]\n"
          ],
          "name": "stdout"
        }
      ]
    },
    {
      "cell_type": "code",
      "metadata": {
        "id": "Xg7n62DW4Luw",
        "colab_type": "code",
        "colab": {
          "base_uri": "https://localhost:8080/",
          "height": 51
        },
        "outputId": "91b22f65-fff1-4117-c1ef-a318b1145e2b"
      },
      "source": [
        "# >>> x = int(input())\n",
        "# >>> if x >= 10:\n",
        "# >>>     print(\"Horse\")\n",
        "# >>> elif 1 < x < 10:\n",
        "# >>>     print(\"Duck\")\n",
        "# >>> else:\n",
        "# >>>     print(\"Baguette\")\n",
        "\n",
        "\n",
        "x = int(input())\n",
        "print(\"Horse\" if x >= 10 else \"Duck\" if 1 < x < 10 else \"Baguette\")"
      ],
      "execution_count": 17,
      "outputs": [
        {
          "output_type": "stream",
          "text": [
            "8\n",
            "Duck\n"
          ],
          "name": "stdout"
        }
      ]
    },
    {
      "cell_type": "markdown",
      "metadata": {
        "id": "Vs_P3Unc8hEZ",
        "colab_type": "text"
      },
      "source": [
        "#### 5: zip()\n",
        "\n",
        "Remember the example from the “map()” section about applying something in parallel between two lists? zip() makes this even easier"
      ]
    },
    {
      "cell_type": "code",
      "metadata": {
        "id": "8V7jNc9t8KqU",
        "colab_type": "code",
        "colab": {
          "base_uri": "https://localhost:8080/",
          "height": 51
        },
        "outputId": "59d6a0a7-f382-47fa-f14f-be628dead17b"
      },
      "source": [
        "first_names = [\"Peter\", \"Christian\", \"Klaus\"]\n",
        "last_names = [\"Jensen\", \"Smith\", \"Nistrup\"]\n",
        "\n",
        "print([' '.join(x) for x in zip(first_names, last_names)])\n",
        "\n",
        "print([' '.join(x) for x in zip(first_names, last_names[::-1])])"
      ],
      "execution_count": 18,
      "outputs": [
        {
          "output_type": "stream",
          "text": [
            "['Peter Jensen', 'Christian Smith', 'Klaus Nistrup']\n",
            "['Peter Nistrup', 'Christian Smith', 'Klaus Jensen']\n"
          ],
          "name": "stdout"
        }
      ]
    },
    {
      "cell_type": "code",
      "metadata": {
        "id": "r9a7CucA_aEt",
        "colab_type": "code",
        "colab": {}
      },
      "source": [
        ""
      ],
      "execution_count": 0,
      "outputs": []
    }
  ]
}