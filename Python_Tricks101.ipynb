{
  "nbformat": 4,
  "nbformat_minor": 0,
  "metadata": {
    "colab": {
      "name": "Python_Tricks101.ipynb",
      "provenance": [],
      "include_colab_link": true
    },
    "kernelspec": {
      "name": "python3",
      "display_name": "Python 3"
    }
  },
  "cells": [
    {
      "cell_type": "markdown",
      "metadata": {
        "id": "view-in-github",
        "colab_type": "text"
      },
      "source": [
        "<a href=\"https://colab.research.google.com/github/KutapiAise/DataScience/blob/master/Python_Tricks101.ipynb\" target=\"_parent\"><img src=\"https://colab.research.google.com/assets/colab-badge.svg\" alt=\"Open In Colab\"/></a>"
      ]
    },
    {
      "cell_type": "markdown",
      "metadata": {
        "id": "RDve-GJ7oMwd"
      },
      "source": [
        "#### 1: String manipulation\n",
        "\n",
        "- We can reverse a string easily as well, using [::-1] and this isn’t limited to strings!."
      ]
    },
    {
      "cell_type": "code",
      "metadata": {
        "id": "RgoSegZuoAw-",
        "outputId": "47dbbb25-0fbd-403e-ed37-757bca9b641a",
        "colab": {
          "base_uri": "https://localhost:8080/",
          "height": 68
        }
      },
      "source": [
        "my_string = \"Hi Medium..!\"\n",
        "\n",
        "print(my_string * 2)\n",
        "\n",
        "print(my_string + \" I love Python\" * 2)\n",
        "\n",
        "word_list = [\"awesome\", \"is\", \"this\"]\n",
        "print(' '.join(word_list[::-1]) + '!')"
      ],
      "execution_count": null,
      "outputs": [
        {
          "output_type": "stream",
          "text": [
            "Hi Medium..!Hi Medium..!\n",
            "Hi Medium..! I love Python I love Python\n",
            "this is awesome!\n"
          ],
          "name": "stdout"
        }
      ]
    },
    {
      "cell_type": "markdown",
      "metadata": {
        "id": "aoGVgHldo9RC"
      },
      "source": [
        "####  2: List comprehensions\n"
      ]
    },
    {
      "cell_type": "code",
      "metadata": {
        "id": "SyZcxQQfouxJ",
        "outputId": "7f8d842c-36e1-40e9-ecfd-b633d8eec9f4",
        "colab": {
          "base_uri": "https://localhost:8080/",
          "height": 34
        }
      },
      "source": [
        "def stupid_func(x):\n",
        "  return x**2 + 5\n",
        "\n",
        "\n",
        "\n",
        "\n",
        "my_list = [1, 2, 3, 4, 5]\n",
        "new_list = []\n",
        "for x in my_list:\n",
        "  if x % 2 != 0:\n",
        "    new_list.append(stupid_func(x))\n",
        "    \n",
        "    \n",
        "print(new_list)"
      ],
      "execution_count": null,
      "outputs": [
        {
          "output_type": "stream",
          "text": [
            "[6, 14, 30]\n"
          ],
          "name": "stdout"
        }
      ]
    },
    {
      "cell_type": "code",
      "metadata": {
        "id": "xEQD_Yupwbho",
        "outputId": "7712855a-f9d6-49d3-d759-b5a67dab5cce",
        "colab": {
          "base_uri": "https://localhost:8080/",
          "height": 34
        }
      },
      "source": [
        "print([x ** 2 + 5 for x in my_list if x % 2 != 0])"
      ],
      "execution_count": null,
      "outputs": [
        {
          "output_type": "stream",
          "text": [
            "[6, 14, 30]\n"
          ],
          "name": "stdout"
        }
      ]
    },
    {
      "cell_type": "markdown",
      "metadata": {
        "id": "jaBp61ldxIAC"
      },
      "source": [
        "#### 3: Lambda & Map\n",
        "\n",
        "Basically a Lambda function is a small, anonymous function. Why anonymous? Simply because Lambdas are most often used to perform small / simple operations \n",
        "\n"
      ]
    },
    {
      "cell_type": "code",
      "metadata": {
        "id": "EKeiH6dExC0U",
        "outputId": "687dd5b5-53db-437a-ff75-26a06559b28d",
        "colab": {
          "base_uri": "https://localhost:8080/",
          "height": 34
        }
      },
      "source": [
        "stupid_func = (lambda x : x ** 2 + 5)\n",
        "\n",
        "print([stupid_func(1), stupid_func(3), stupid_func(5)])"
      ],
      "execution_count": null,
      "outputs": [
        {
          "output_type": "stream",
          "text": [
            "[6, 14, 30]\n"
          ],
          "name": "stdout"
        }
      ]
    },
    {
      "cell_type": "code",
      "metadata": {
        "id": "KIz9BS1sxjvD",
        "outputId": "d4043663-c0e5-4fd7-e8e7-5eac53914688",
        "colab": {
          "base_uri": "https://localhost:8080/",
          "height": 34
        }
      },
      "source": [
        "my_list = [2, 1, 0, -1, -2]\n",
        "print(sorted(my_list))\n",
        "\n",
        "\n",
        "# That did the trick, but let’s say we want to sort by the lowest squared number,\n",
        "# we can use a\n",
        "# lambda function to define the key, which is what the sorted() method uses to determine how to sort.\n",
        "\n",
        "print(sorted(my_list, key = lambda x : x ** 2))"
      ],
      "execution_count": null,
      "outputs": [
        {
          "output_type": "stream",
          "text": [
            "[-2, -1, 0, 1, 2]\n"
          ],
          "name": "stdout"
        }
      ]
    },
    {
      "cell_type": "markdown",
      "metadata": {
        "id": "0Sv_cV_q6Hqa"
      },
      "source": [
        "#### Map\n",
        "Map is simply a function used to apply a function to some sequence of elements like a list. Let’s\n",
        "say we have to list where we want to multiply each element in one list with the corresponding element \n",
        "in the other, how do we do this? Using a lambda function and map!:"
      ]
    },
    {
      "cell_type": "code",
      "metadata": {
        "id": "nhJrRf8Y3Rd7",
        "outputId": "9aa4d395-a8ac-4904-f18f-d881eabfc550",
        "colab": {
          "base_uri": "https://localhost:8080/",
          "height": 51
        }
      },
      "source": [
        "print(list(map(lambda x, y : x * y, [1, 2, 3], [4, 5, 6])))\n",
        "\n",
        "\n",
        "# This is simple and elegant compared to this monstrocity:\n",
        "x, y = [1, 2, 3], [4, 5, 6]\n",
        "z = []\n",
        "for i in range(len(x)):\n",
        "  z.append(x[i] * y[i])\n",
        "print(z)"
      ],
      "execution_count": null,
      "outputs": [
        {
          "output_type": "stream",
          "text": [
            "[4, 10, 18]\n",
            "[4, 10, 18]\n"
          ],
          "name": "stdout"
        }
      ]
    },
    {
      "cell_type": "code",
      "metadata": {
        "id": "Xg7n62DW4Luw",
        "outputId": "91b22f65-fff1-4117-c1ef-a318b1145e2b",
        "colab": {
          "base_uri": "https://localhost:8080/",
          "height": 51
        }
      },
      "source": [
        "# >>> x = int(input())\n",
        "# >>> if x >= 10:\n",
        "# >>>     print(\"Horse\")\n",
        "# >>> elif 1 < x < 10:\n",
        "# >>>     print(\"Duck\")\n",
        "# >>> else:\n",
        "# >>>     print(\"Baguette\")\n",
        "\n",
        "\n",
        "x = int(input())\n",
        "print(\"Horse\" if x >= 10 else \"Duck\" if 1 < x < 10 else \"Baguette\")"
      ],
      "execution_count": null,
      "outputs": [
        {
          "output_type": "stream",
          "text": [
            "8\n",
            "Duck\n"
          ],
          "name": "stdout"
        }
      ]
    },
    {
      "cell_type": "markdown",
      "metadata": {
        "id": "Vs_P3Unc8hEZ"
      },
      "source": [
        "#### 5: zip()\n",
        "\n",
        "Remember the example from the “map()” section about applying something in parallel between two lists? zip() makes this even easier"
      ]
    },
    {
      "cell_type": "code",
      "metadata": {
        "id": "8V7jNc9t8KqU",
        "outputId": "59d6a0a7-f382-47fa-f14f-be628dead17b",
        "colab": {
          "base_uri": "https://localhost:8080/",
          "height": 51
        }
      },
      "source": [
        "first_names = [\"Peter\", \"Christian\", \"Klaus\"]\n",
        "last_names = [\"Jensen\", \"Smith\", \"Nistrup\"]\n",
        "\n",
        "print([' '.join(x) for x in zip(first_names, last_names)])\n",
        "\n",
        "print([' '.join(x) for x in zip(first_names, last_names[::-1])])"
      ],
      "execution_count": null,
      "outputs": [
        {
          "output_type": "stream",
          "text": [
            "['Peter Jensen', 'Christian Smith', 'Klaus Nistrup']\n",
            "['Peter Nistrup', 'Christian Smith', 'Klaus Jensen']\n"
          ],
          "name": "stdout"
        }
      ]
    },
    {
      "cell_type": "markdown",
      "metadata": {
        "id": "xMOUBLnm2Xa8"
      },
      "source": [
        "6) Underscore for large numbers\n"
      ]
    },
    {
      "cell_type": "code",
      "metadata": {
        "id": "r9a7CucA_aEt",
        "outputId": "ca6f5785-e98a-4e6d-fa56-e76b6229f023",
        "colab": {
          "base_uri": "https://localhost:8080/"
        }
      },
      "source": [
        "number =10_000_000_000\n",
        "print(f'{number:,}')"
      ],
      "execution_count": 1,
      "outputs": [
        {
          "output_type": "stream",
          "text": [
            "10,000,000,000\n"
          ],
          "name": "stdout"
        }
      ]
    },
    {
      "cell_type": "markdown",
      "metadata": {
        "id": "vMSa1DNI2sfB"
      },
      "source": [
        "7) List and dict comprehensions\n"
      ]
    },
    {
      "cell_type": "code",
      "metadata": {
        "id": "h-LXR1gN2oX2",
        "outputId": "67b9314e-a3f1-4900-f1a5-9d633f9aad35",
        "colab": {
          "base_uri": "https://localhost:8080/"
        }
      },
      "source": [
        "numbers=[1,2,3,4]\n",
        "squared=[n*n for n in numbers]\n",
        "print(squared)\n",
        "\n",
        "numbers= {'a':1,'b':2,'c':3 ,'d':4}\n",
        "squared= {k:v*v for (k,v) in numbers.items()}\n",
        "\n",
        "print(squared)"
      ],
      "execution_count": 2,
      "outputs": [
        {
          "output_type": "stream",
          "text": [
            "[1, 4, 9, 16]\n",
            "{'a': 1, 'b': 4, 'c': 9, 'd': 16}\n"
          ],
          "name": "stdout"
        }
      ]
    },
    {
      "cell_type": "markdown",
      "metadata": {
        "id": "jfyLL1TZ3Znq"
      },
      "source": [
        "8) most frequent elemnt in a  list"
      ]
    },
    {
      "cell_type": "code",
      "metadata": {
        "id": "ZqHlQO343X1g",
        "outputId": "bfd5ce42-7161-4b40-ae0c-a1ee52b05d8d",
        "colab": {
          "base_uri": "https://localhost:8080/"
        }
      },
      "source": [
        "numbers =[1,1,2,3,4,5,1,8,55]\n",
        "print(numbers.count)\n",
        "mostfrequent = max(set(numbers), key = numbers.count)\n",
        "print(mostfrequent)"
      ],
      "execution_count": 4,
      "outputs": [
        {
          "output_type": "stream",
          "text": [
            "<built-in method count of list object at 0x7f3811035948>\n",
            "1\n"
          ],
          "name": "stdout"
        }
      ]
    },
    {
      "cell_type": "markdown",
      "metadata": {
        "id": "Uh_CT2xK4GbF"
      },
      "source": [
        "9) Convert mutable in to Immutable"
      ]
    },
    {
      "cell_type": "code",
      "metadata": {
        "id": "CZEhMukC39rQ",
        "outputId": "de816db3-966e-4e38-e760-b30de776fef0",
        "colab": {
          "base_uri": "https://localhost:8080/",
          "height": 248
        }
      },
      "source": [
        "numbers =[1,2,3,4]\n",
        "print(type(numbers))\n",
        "numbers = frozenset(numbers)\n",
        "print(type(numbers))\n",
        "numbers[0]= 5\n",
        "print(numbers)"
      ],
      "execution_count": 5,
      "outputs": [
        {
          "output_type": "stream",
          "text": [
            "<class 'list'>\n",
            "<class 'frozenset'>\n"
          ],
          "name": "stdout"
        },
        {
          "output_type": "error",
          "ename": "TypeError",
          "evalue": "ignored",
          "traceback": [
            "\u001b[0;31m---------------------------------------------------------------------------\u001b[0m",
            "\u001b[0;31mTypeError\u001b[0m                                 Traceback (most recent call last)",
            "\u001b[0;32m<ipython-input-5-421661bc0ec4>\u001b[0m in \u001b[0;36m<module>\u001b[0;34m()\u001b[0m\n\u001b[1;32m      3\u001b[0m \u001b[0mnumbers\u001b[0m \u001b[0;34m=\u001b[0m \u001b[0mfrozenset\u001b[0m\u001b[0;34m(\u001b[0m\u001b[0mnumbers\u001b[0m\u001b[0;34m)\u001b[0m\u001b[0;34m\u001b[0m\u001b[0;34m\u001b[0m\u001b[0m\n\u001b[1;32m      4\u001b[0m \u001b[0mprint\u001b[0m\u001b[0;34m(\u001b[0m\u001b[0mtype\u001b[0m\u001b[0;34m(\u001b[0m\u001b[0mnumbers\u001b[0m\u001b[0;34m)\u001b[0m\u001b[0;34m)\u001b[0m\u001b[0;34m\u001b[0m\u001b[0;34m\u001b[0m\u001b[0m\n\u001b[0;32m----> 5\u001b[0;31m \u001b[0mnumbers\u001b[0m\u001b[0;34m[\u001b[0m\u001b[0;36m0\u001b[0m\u001b[0;34m]\u001b[0m\u001b[0;34m=\u001b[0m \u001b[0;36m5\u001b[0m\u001b[0;34m\u001b[0m\u001b[0;34m\u001b[0m\u001b[0m\n\u001b[0m\u001b[1;32m      6\u001b[0m \u001b[0mprint\u001b[0m\u001b[0;34m(\u001b[0m\u001b[0mnumbers\u001b[0m\u001b[0;34m)\u001b[0m\u001b[0;34m\u001b[0m\u001b[0;34m\u001b[0m\u001b[0m\n",
            "\u001b[0;31mTypeError\u001b[0m: 'frozenset' object does not support item assignment"
          ]
        }
      ]
    },
    {
      "cell_type": "markdown",
      "metadata": {
        "id": "i1EHxnaV5QTg"
      },
      "source": [
        "10) print monthly calender\n",
        "\n"
      ]
    },
    {
      "cell_type": "code",
      "metadata": {
        "id": "GoUNMjVT5LYb",
        "outputId": "535ee82c-cac2-46a1-fd3b-7bb05bff278b",
        "colab": {
          "base_uri": "https://localhost:8080/"
        }
      },
      "source": [
        "import calendar  \n",
        "print(calendar.month(2020,11))"
      ],
      "execution_count": 8,
      "outputs": [
        {
          "output_type": "stream",
          "text": [
            "   November 2020\n",
            "Mo Tu We Th Fr Sa Su\n",
            "                   1\n",
            " 2  3  4  5  6  7  8\n",
            " 9 10 11 12 13 14 15\n",
            "16 17 18 19 20 21 22\n",
            "23 24 25 26 27 28 29\n",
            "30\n",
            "\n"
          ],
          "name": "stdout"
        }
      ]
    },
    {
      "cell_type": "code",
      "metadata": {
        "id": "DKiefAHs5bzc"
      },
      "source": [
        ""
      ],
      "execution_count": null,
      "outputs": []
    }
  ]
}