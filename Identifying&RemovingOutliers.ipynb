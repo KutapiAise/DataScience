{
  "nbformat": 4,
  "nbformat_minor": 0,
  "metadata": {
    "colab": {
      "name": "Identifying&RemovingOutliers.ipynb",
      "provenance": [],
      "include_colab_link": true
    },
    "kernelspec": {
      "name": "python3",
      "display_name": "Python 3"
    }
  },
  "cells": [
    {
      "cell_type": "markdown",
      "metadata": {
        "id": "view-in-github",
        "colab_type": "text"
      },
      "source": [
        "<a href=\"https://colab.research.google.com/github/KutapiAise/DataScience/blob/master/Identifying%26RemovingOutliers.ipynb\" target=\"_parent\"><img src=\"https://colab.research.google.com/assets/colab-badge.svg\" alt=\"Open In Colab\"/></a>"
      ]
    },
    {
      "cell_type": "markdown",
      "metadata": {
        "id": "Y696Fypz9szU",
        "colab_type": "text"
      },
      "source": [
        "Validity, accuracy in interpretation and applicability in business contexts are critical fundamentals to the overall insights that form the essence of Exploratory Data Analysis (EDA) in any machine learning projects. In the entire EDA process, the anomaly that outliers cause are often a source of frustration for data scientists and machine learning engineers. Especially prominent in the case of data visualization projects and statistical models, taking away from the objectivity of the project at hand.\n",
        "\n",
        "OUTLIERS\n",
        "Observations in statistics that are far removed from the normalized distribution observation in any data set in statistics form the gist of outliers. The most common reasons that outliers occur include an error in measurement or input of the data, corrupt data, and the typical true observation that’s outside the normal distribution. Because of the very nature of datasets in data science, a mathematical definition of an outlier cannot really be defined specifically. However, close observation of the dataset with some prior knowledge is required to accurately identify outliers.\n",
        "\n",
        "As mentioned above, machine learning algorithms and general data visualization projects are drastically affected when outliers are overlooked due to errors of omission or being far from the normal statistical distribution in a dataset.\n",
        "\n",
        "#### IDENTIFYING OUTLIERS\n",
        "There are several methods that data scientists employ to identify outliers. The ends drive the means, in this case. To exemplify, pattern differentials in a scatter plot is by far the most common method in identifying an outlier.\n",
        "\n",
        "Using Z score is another common method. Basically defined as the number of standard deviations that the data point is away from the mean. Also known as standard scores, Z scores can range anywhere between -3 standard deviations to +3 standard deviations on either side of the mean. It’s usually calculated as z = (x-μ) ̸ σ. Z-score has its limitations, though, and there are variations of this method to identify outliers in multiple datasets as well as include certain modifiers for better accuracy.\n",
        "\n",
        "Another method is the Inter Quartile Range, also referred to as IQR, is the difference between the fourth and three fourth percentiles – aka the upper and lower quartiles of a dataset.\n",
        "\n",
        "#### THE BASICS OF QUANTILES\n",
        "Quantiles essentially refer to the mathematical expressions of the borderlines of each segment within the dataset. The nomenclature is fairly common and easy to understand, with percentile referring to a 100, decile referring to 10 and quartile referring to 4. Quantiles, in this case, refer to n where n is the number of segments in the dataset.\n",
        "\n",
        "As a natural consequence, the interquartile range of the dataset would ideally follow a breakup point of 25%.\n",
        "\n",
        "With that understood, the IQR usually identifies outliers with their deviations when expressed in a box plot. Observations below Q1- 1.5 IQR, or those above Q3 + 1.5IQR (note that the sum of the IQR is always 4) are defined as outliers.\n",
        "\n",
        "#### USING NUMPY\n",
        "For Python users, NumPy is the most commonly used Python package for identifying outliers. If you’ve understood the concepts of IQR in outlier detection, this becomes a cakewalk. For a dataset already imported in a python instance, the code for installing NumPy and running it on the dataset is:"
      ]
    },
    {
      "cell_type": "code",
      "metadata": {
        "id": "IDF8dSo59awc",
        "colab_type": "code",
        "colab": {
          "base_uri": "https://localhost:8080/",
          "height": 129
        },
        "outputId": "a89f765f-33c0-4236-b765-6b1792afadc8"
      },
      "source": [
        "import numpy as np\n",
        "def removeOutliers(x, outlierConstant):\n",
        "   a = np.array(x)\n",
        "   upper_quartile = np.percentile(a, 75)\n",
        "   lower_quartile = np.percentile(a, 25)\n",
        "   IQR = (upper_quartile - lower_quartile) * outlierConstant\n",
        "   quartileSet = (lower_quartile - IQR, upper_quartile + IQR)\n",
        "   resultList = []\n",
        "   for y in a.tolist():\n",
        "      if (y > = quartileSet[0]) and (y < = quartileSet[1]):\n",
        "        resultList.append(y)\n",
        "    return resultList\n"
      ],
      "execution_count": 3,
      "outputs": [
        {
          "output_type": "error",
          "ename": "SyntaxError",
          "evalue": "ignored",
          "traceback": [
            "\u001b[0;36m  File \u001b[0;32m\"<ipython-input-3-4e79e441ba05>\"\u001b[0;36m, line \u001b[0;32m10\u001b[0m\n\u001b[0;31m    if (y > = quartileSet[0]) and (y < = quartileSet[1]):\u001b[0m\n\u001b[0m            ^\u001b[0m\n\u001b[0;31mSyntaxError\u001b[0m\u001b[0;31m:\u001b[0m invalid syntax\n"
          ]
        }
      ]
    },
    {
      "cell_type": "markdown",
      "metadata": {
        "id": "teIWApCW-SVR",
        "colab_type": "text"
      },
      "source": [
        "#### USING PANDAS\n",
        "Pandas is another hugely popular package for removing outliers in Python. In the code snippet below, numpy and pandas are used in tandem to remove outliers in the name, age and address variables in a dataset:"
      ]
    },
    {
      "cell_type": "code",
      "metadata": {
        "id": "gDa8ViR--Jor",
        "colab_type": "code",
        "colab": {
          "base_uri": "https://localhost:8080/",
          "height": 204
        },
        "outputId": "ed9cd628-6f9b-4cf9-b6e5-d1edb1ac32f4"
      },
      "source": [
        "import pandas as pd\n",
        "import numpy as np\n",
        "from pandas.api.types import is_numeric_dtype\n",
        "np.random.seed(42)\n",
        "age = np.random.randint(20,100,50)\n",
        "name = ['name'+str(i) for i in range(50)]\n",
        "address = ['address'+str(i) for i in range(50)]\n",
        "df = pd.DataFrame(data={'age':age, 'name':name, 'address':address})\n",
        "\n",
        "def remove_outlier(df):\n",
        "    low = .05\n",
        "    high = .95\n",
        "    quant_df = df.quantile([low, high])\n",
        "    for name in list(df.columns):\n",
        "      if is_numeric_dtype(df[name]):\n",
        "       df = df[(df[name] > quant_df.loc[low, name]) \n",
        "             & (df[name] < quant_df.loc[high, name])]\n",
        "    return df\n",
        "remove_outlier(df).head()"
      ],
      "execution_count": 4,
      "outputs": [
        {
          "output_type": "execute_result",
          "data": {
            "text/html": [
              "<div>\n",
              "<style scoped>\n",
              "    .dataframe tbody tr th:only-of-type {\n",
              "        vertical-align: middle;\n",
              "    }\n",
              "\n",
              "    .dataframe tbody tr th {\n",
              "        vertical-align: top;\n",
              "    }\n",
              "\n",
              "    .dataframe thead th {\n",
              "        text-align: right;\n",
              "    }\n",
              "</style>\n",
              "<table border=\"1\" class=\"dataframe\">\n",
              "  <thead>\n",
              "    <tr style=\"text-align: right;\">\n",
              "      <th></th>\n",
              "      <th>age</th>\n",
              "      <th>name</th>\n",
              "      <th>address</th>\n",
              "    </tr>\n",
              "  </thead>\n",
              "  <tbody>\n",
              "    <tr>\n",
              "      <th>0</th>\n",
              "      <td>71</td>\n",
              "      <td>name0</td>\n",
              "      <td>address0</td>\n",
              "    </tr>\n",
              "    <tr>\n",
              "      <th>1</th>\n",
              "      <td>34</td>\n",
              "      <td>name1</td>\n",
              "      <td>address1</td>\n",
              "    </tr>\n",
              "    <tr>\n",
              "      <th>2</th>\n",
              "      <td>91</td>\n",
              "      <td>name2</td>\n",
              "      <td>address2</td>\n",
              "    </tr>\n",
              "    <tr>\n",
              "      <th>3</th>\n",
              "      <td>80</td>\n",
              "      <td>name3</td>\n",
              "      <td>address3</td>\n",
              "    </tr>\n",
              "    <tr>\n",
              "      <th>4</th>\n",
              "      <td>40</td>\n",
              "      <td>name4</td>\n",
              "      <td>address4</td>\n",
              "    </tr>\n",
              "  </tbody>\n",
              "</table>\n",
              "</div>"
            ],
            "text/plain": [
              "   age   name   address\n",
              "0   71  name0  address0\n",
              "1   34  name1  address1\n",
              "2   91  name2  address2\n",
              "3   80  name3  address3\n",
              "4   40  name4  address4"
            ]
          },
          "metadata": {
            "tags": []
          },
          "execution_count": 4
        }
      ]
    },
    {
      "cell_type": "code",
      "metadata": {
        "id": "dYGFJOVu-trJ",
        "colab_type": "code",
        "colab": {}
      },
      "source": [
        ""
      ],
      "execution_count": 0,
      "outputs": []
    }
  ]
}